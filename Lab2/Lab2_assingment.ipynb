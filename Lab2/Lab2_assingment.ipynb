{
 "cells": [
  {
   "cell_type": "code",
   "execution_count": 1,
   "metadata": {},
   "outputs": [],
   "source": [
    "# 1. Numpy assignment 1: Perform edge detection in a photo. {\n",
    "# Hint:\n",
    "#  Import a photo using PIL library (install if necessary) and convert it to numpy\n",
    "# (PIL.Image.open() ).  Covert it to grayscale (For each pixel take mean of R,G,B values which will be the\n",
    "# grayscale value)\n",
    "#  Use edge detection logic (using Sobel Filter):\n",
    "#  Add padding pixels around the boundary of the image (use numpy.pad())\n",
    "#  For each pixel at position (i, j) perform following:\n",
    "# Image[i, j] = absolute_value_of(Gradx) + absolute_value_of(Grady)\n",
    "# where, Gradx = Sum(3x3 neighbourhood of Image[i, j] * Kx) i.e. element-wise multiplication of\n",
    "# two 3x3 matrices followed by sum of all elements\n",
    "# Grady = Sum(3x3 neighbourhood of Image[i, j] * Ky)\n",
    "# 3x3 neighbourhood of Pix[i, j] = Image[i-1:i+2, j-1:j+2]\n",
    "# Kx = [[-1, -2, -1], [ 0, 0, 0], [ 1, 2, 1]]\n",
    "# Ky = [[-1, 0, 1], [ -2, 0, 2], [ -1, 0, 1]]\n",
    "\n",
    "#  Convert above obtained numpy array to PIL image (Image.fromarray())\n",
    "#  Show/save the image using PIL\n",
    "# }"
   ]
  },
  {
   "cell_type": "code",
   "execution_count": null,
   "metadata": {},
   "outputs": [],
   "source": []
  }
 ],
 "metadata": {
  "kernelspec": {
   "display_name": ".venv",
   "language": "python",
   "name": "python3"
  },
  "language_info": {
   "codemirror_mode": {
    "name": "ipython",
    "version": 3
   },
   "file_extension": ".py",
   "mimetype": "text/x-python",
   "name": "python",
   "nbconvert_exporter": "python",
   "pygments_lexer": "ipython3",
   "version": "3.12.7"
  }
 },
 "nbformat": 4,
 "nbformat_minor": 2
}
