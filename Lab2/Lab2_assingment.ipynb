{
 "cells": [
  {
   "cell_type": "code",
   "execution_count": 39,
   "metadata": {},
   "outputs": [],
   "source": [
    "# 1. Numpy assignment 1: Perform edge detection in a photo. {\n",
    "# Hint:\n",
    "#  Import a photo using PIL library (install if necessary) and convert it to numpy\n",
    "# (PIL.Image.open() ).  Covert it to grayscale (For each pixel take mean of R,G,B values which will be the\n",
    "# grayscale value)\n",
    "#  Use edge detection logic (using Sobel Filter):\n",
    "#  Add padding pixels around the boundary of the image (use numpy.pad())\n",
    "#  For each pixel at position (i, j) perform following:\n",
    "# Image[i, j] = absolute_value_of(Gradx) + absolute_value_of(Grady)\n",
    "# where, Gradx = Sum(3x3 neighbourhood of Image[i, j] * Kx) i.e. element-wise multiplication of\n",
    "# two 3x3 matrices followed by sum of all elements\n",
    "# Grady = Sum(3x3 neighbourhood of Image[i, j] * Ky)\n",
    "# 3x3 neighbourhood of Pix[i, j] = Image[i-1:i+2, j-1:j+2]\n",
    "# Kx = [[-1, -2, -1], [ 0, 0, 0], [ 1, 2, 1]]\n",
    "# Ky = [[-1, 0, 1], [ -2, 0, 2], [ -1, 0, 1]]\n",
    "\n",
    "#  Convert above obtained numpy array to PIL image (Image.fromarray())\n",
    "#  Show/save the image using PIL\n",
    "# }"
   ]
  },
  {
   "cell_type": "code",
   "execution_count": 40,
   "metadata": {},
   "outputs": [],
   "source": [
    "from PIL import Image\n",
    "import numpy as np"
   ]
  },
  {
   "cell_type": "code",
   "execution_count": 52,
   "metadata": {},
   "outputs": [
    {
     "name": "stdout",
     "output_type": "stream",
     "text": [
      "JPEG\n",
      "(3840, 2628)\n"
     ]
    }
   ],
   "source": [
    "img = Image.open('image.jpeg')\n",
    "print(img.format)\n",
    "print(img.size)"
   ]
  },
  {
   "cell_type": "code",
   "execution_count": 42,
   "metadata": {},
   "outputs": [],
   "source": [
    "img_rgb = img.convert('RGB')"
   ]
  },
  {
   "cell_type": "code",
   "execution_count": 43,
   "metadata": {},
   "outputs": [
    {
     "name": "stdout",
     "output_type": "stream",
     "text": [
      "<PIL.Image.Image image mode=RGB size=3840x2628 at 0x7F0E55528A10>\n"
     ]
    }
   ],
   "source": [
    "print(img_rgb)"
   ]
  },
  {
   "cell_type": "code",
   "execution_count": 44,
   "metadata": {},
   "outputs": [
    {
     "name": "stdout",
     "output_type": "stream",
     "text": [
      "(2630, 3842, 3)\n"
     ]
    }
   ],
   "source": [
    "img_array = np.array(img_rgb)\n",
    "img_array = np.pad(img_array, pad_width=((1,1),(1,1),(0,0)), mode='constant', constant_values=0)\n",
    "print(img_array.shape)"
   ]
  },
  {
   "cell_type": "code",
   "execution_count": 45,
   "metadata": {},
   "outputs": [],
   "source": [
    "gray_img = np.mean(img_array, axis=2)"
   ]
  },
  {
   "cell_type": "code",
   "execution_count": 46,
   "metadata": {},
   "outputs": [],
   "source": [
    "grayImage = Image.fromarray(gray_img)\n",
    "grayImage.show()"
   ]
  },
  {
   "cell_type": "code",
   "execution_count": 47,
   "metadata": {},
   "outputs": [],
   "source": [
    "kx = np.array([[-1, -2, -1], [0, 0, 0], [1, 2, 1]])\n",
    "ky = np.array([[-1, 0, 1], [-2, 0, 2], [-1, 0, 1]])"
   ]
  },
  {
   "cell_type": "code",
   "execution_count": 48,
   "metadata": {},
   "outputs": [
    {
     "data": {
      "text/plain": [
       "<PIL.Image.Image image mode=F size=3842x2630>"
      ]
     },
     "execution_count": 48,
     "metadata": {},
     "output_type": "execute_result"
    }
   ],
   "source": [
    "for i in range(1, gray_img.shape[0]-1):\n",
    "    for j in range(1, gray_img.shape[1]-1):\n",
    "        grad_x = np.sum(img_array[i-1:i+2, j-1:j+2] * kx)\n",
    "        grad_y = np.sum(img_array[i-1:i+2, j-1:j+2] * ky)\n",
    "        gray_img[i, j] = abs(grad_x) + abs(grad_y)\n",
    "edgeImage = Image.fromarray(gray_img)\n",
    "edgeImage"
   ]
  },
  {
   "cell_type": "code",
   "execution_count": 51,
   "metadata": {},
   "outputs": [
    {
     "data": {
      "text/plain": [
       "<PIL.Image.Image image mode=F size=3842x2630>"
      ]
     },
     "execution_count": 51,
     "metadata": {},
     "output_type": "execute_result"
    }
   ],
   "source": [
    "edgeImage.show()"
   ]
  }
 ],
 "metadata": {
  "kernelspec": {
   "display_name": ".venv",
   "language": "python",
   "name": "python3"
  },
  "language_info": {
   "codemirror_mode": {
    "name": "ipython",
    "version": 3
   },
   "file_extension": ".py",
   "mimetype": "text/x-python",
   "name": "python",
   "nbconvert_exporter": "python",
   "pygments_lexer": "ipython3",
   "version": "3.12.7"
  }
 },
 "nbformat": 4,
 "nbformat_minor": 2
}
