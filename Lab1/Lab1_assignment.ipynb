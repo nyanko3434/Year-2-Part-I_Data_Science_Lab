{
  "cells": [
    {
      "cell_type": "code",
      "execution_count": 2,
      "metadata": {
        "colab": {
          "base_uri": "https://localhost:8080/"
        },
        "id": "p3-650Spx6yG",
        "outputId": "8f5cbf4e-d233-4207-d7bf-0617251ace53"
      },
      "outputs": [
        {
          "name": "stdout",
          "output_type": "stream",
          "text": [
            "Enter height in ft-inch : \n",
            "Normal weight\n"
          ]
        }
      ],
      "source": [
        "#BMI Calculation\n",
        "#Below 18.5 Underweight\n",
        "# 18.5–24.9 Normal weight\n",
        "# 25.0–29.9 Pre-obesity\n",
        "# 30.0–34.9 Obesity class I\n",
        "# 35.0–39.9 Obesity class II\n",
        "# Above 40 Obesity class III\n",
        "print(\"Enter height in ft-inch : \")\n",
        "f = int(input(\"Feet : \"))\n",
        "i = int(input(\"Inch : \"))\n",
        "m = f *0.3048 + i*0.0254\n",
        "wt = int(input(\"Weight in kg : \"))\n",
        "bmi = wt / m**2\n",
        "if bmi < 18.5:\n",
        "  print(\"Underweight\")\n",
        "elif bmi < 25:\n",
        "  print(\"Normal weight\")\n",
        "elif bmi < 30:\n",
        "  print(\"Pre-obesity\")\n",
        "elif bmi < 35:\n",
        "  print(\"Obesity class I\")\n",
        "elif bmi < 40:\n",
        "  print(\"Obesity class II\")\n",
        "else:\n",
        "  print(\"Obesity class III\")"
      ]
    },
    {
      "cell_type": "code",
      "execution_count": 2,
      "metadata": {
        "colab": {
          "base_uri": "https://localhost:8080/"
        },
        "id": "1YyYzj1mNmbU",
        "outputId": "d5963819-27f2-4bf0-98c7-884e1fc7ef6b"
      },
      "outputs": [
        {
          "data": {
            "text/plain": [
              "120"
            ]
          },
          "execution_count": 2,
          "metadata": {},
          "output_type": "execute_result"
        }
      ],
      "source": [
        "# Factorial\n",
        "def fac(n):\n",
        "  if n<1:\n",
        "    return 1\n",
        "  else:\n",
        "    return n*fac(n-1)\n",
        "\n",
        "fac(5)"
      ]
    },
    {
      "cell_type": "code",
      "execution_count": 3,
      "metadata": {
        "colab": {
          "base_uri": "https://localhost:8080/"
        },
        "id": "r-znej73OOQB",
        "outputId": "93a1c622-26fd-4659-a17f-1a2759cbb1c7"
      },
      "outputs": [
        {
          "name": "stdout",
          "output_type": "stream",
          "text": [
            "0\n",
            "1\n",
            "1\n",
            "2\n",
            "3\n",
            "5\n",
            "8\n",
            "13\n",
            "21\n",
            "34\n"
          ]
        }
      ],
      "source": [
        "# Fibonacci Series 0 1 1 2 5 7 13\n",
        "\n",
        "def fib(n):\n",
        "  if n==0:\n",
        "    return 0\n",
        "  if n==1:\n",
        "    return 1\n",
        "  return fib(n-1)+fib(n-2)\n",
        "for i in range(10):\n",
        "  print(fib(i))"
      ]
    },
    {
      "cell_type": "code",
      "execution_count": 6,
      "metadata": {
        "colab": {
          "base_uri": "https://localhost:8080/"
        },
        "id": "MiqGDSGJSv2f",
        "outputId": "d9dbfeab-009e-43e6-f436-1308a3be29d4"
      },
      "outputs": [
        {
          "name": "stdout",
          "output_type": "stream",
          "text": [
            "1\n",
            "2\n",
            "fizz\n",
            "4\n",
            "buzz\n",
            "fizz\n",
            "7\n",
            "8\n",
            "fizz\n",
            "buzz\n",
            "11\n",
            "fizz\n",
            "13\n",
            "14\n",
            "fizzbuzz\n",
            "16\n",
            "17\n",
            "fizz\n",
            "19\n",
            "buzz\n",
            "fizz\n",
            "22\n",
            "23\n",
            "fizz\n",
            "buzz\n",
            "26\n",
            "fizz\n",
            "28\n",
            "29\n",
            "fizzbuzz\n",
            "31\n",
            "32\n",
            "fizz\n",
            "34\n",
            "buzz\n",
            "fizz\n",
            "37\n",
            "38\n",
            "fizz\n",
            "buzz\n",
            "41\n",
            "fizz\n",
            "43\n",
            "44\n",
            "fizzbuzz\n",
            "46\n",
            "47\n",
            "fizz\n",
            "49\n",
            "buzz\n",
            "fizz\n",
            "52\n",
            "53\n",
            "fizz\n",
            "buzz\n",
            "56\n",
            "fizz\n",
            "58\n",
            "59\n",
            "fizzbuzz\n",
            "61\n",
            "62\n",
            "fizz\n",
            "64\n",
            "buzz\n",
            "fizz\n",
            "67\n",
            "68\n",
            "fizz\n",
            "buzz\n",
            "71\n",
            "fizz\n",
            "73\n",
            "74\n",
            "fizzbuzz\n",
            "76\n",
            "77\n",
            "fizz\n",
            "79\n",
            "buzz\n",
            "fizz\n",
            "82\n",
            "83\n",
            "fizz\n",
            "buzz\n",
            "86\n",
            "fizz\n",
            "88\n",
            "89\n",
            "fizzbuzz\n",
            "91\n",
            "92\n",
            "fizz\n",
            "94\n",
            "buzz\n",
            "fizz\n",
            "97\n",
            "98\n",
            "fizz\n",
            "buzz\n"
          ]
        }
      ],
      "source": [
        "#Fizzbuzz\n",
        "for i in range(1,101):\n",
        "  f = 1\n",
        "  if (not i%3):\n",
        "    if (i%5):\n",
        "      print(\"fizz\")\n",
        "      f = 0\n",
        "    else:\n",
        "      print(\"fizz\", end = \"\")\n",
        "  if (not i%5):\n",
        "      print(\"buzz\")\n",
        "      f = 0\n",
        "  if(f):\n",
        "    print(i)"
      ]
    },
    {
      "cell_type": "code",
      "execution_count": 5,
      "metadata": {
        "colab": {
          "base_uri": "https://localhost:8080/"
        },
        "id": "B2D8lOE0Tm_x",
        "outputId": "04678b39-4d95-44ba-9b0e-6b06a7ee4f39"
      },
      "outputs": [
        {
          "name": "stdout",
          "output_type": "stream",
          "text": [
            "Nayan 48\n"
          ]
        }
      ],
      "source": [
        "class Student:\n",
        "  def __init__(self,name , roll):\n",
        "    self.name = name\n",
        "    self.roll = roll\n",
        "s1 = Student (\"Nayan\", 48)\n",
        "print(s1.name, s1.roll)"
      ]
    },
    {
      "cell_type": "code",
      "execution_count": null,
      "metadata": {
        "id": "RxSYBo_UZPUI"
      },
      "outputs": [],
      "source": []
    }
  ],
  "metadata": {
    "colab": {
      "provenance": []
    },
    "kernelspec": {
      "display_name": ".venv",
      "language": "python",
      "name": "python3"
    },
    "language_info": {
      "codemirror_mode": {
        "name": "ipython",
        "version": 3
      },
      "file_extension": ".py",
      "mimetype": "text/x-python",
      "name": "python",
      "nbconvert_exporter": "python",
      "pygments_lexer": "ipython3",
      "version": "3.13.1"
    }
  },
  "nbformat": 4,
  "nbformat_minor": 0
}
