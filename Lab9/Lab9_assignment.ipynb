{
 "cells": [
  {
   "cell_type": "markdown",
   "metadata": {},
   "source": [
    "- Lab 9 Hypothesis Testing"
   ]
  },
  {
   "cell_type": "markdown",
   "metadata": {},
   "source": [
    "Your company has recently launched a software 'X' but users are complaining of slow network connection in some areas. Some tests suggests (RTT) round trip time (under some specific test condition) currently to be around 1000ms. Your company decides to outsource the networking component from a specialized vendor. A sample of values of RTT for the current software is provided in the attached file “rtt_current.txt”. Now, the company that improved upon your existing software component claims that it has greatly improved networking and the RTT has decreased from before by more than 800ms. A sample of RRTs of the same software while using the supposedly improved networking component is given in the attached file “rtt_new.txt”. You are required to test that claim on behalf of your company (the one that is paying for outsourced component). Assume you don't know the nature of distribution of the population and use appropriate test statistic (z-score or t-score) accordingly (with description on why you chose it)."
   ]
  },
  {
   "cell_type": "markdown",
   "metadata": {},
   "source": [
    "1. Formulate the hypothesis; what is null and what is alternate and why."
   ]
  },
  {
   "cell_type": "code",
   "execution_count": null,
   "metadata": {},
   "outputs": [],
   "source": []
  },
  {
   "cell_type": "markdown",
   "metadata": {},
   "source": [
    "2. Plot where this difference of mean of RRTs (before and after case) would lie in the the sampling distribution."
   ]
  },
  {
   "cell_type": "code",
   "execution_count": null,
   "metadata": {},
   "outputs": [],
   "source": []
  },
  {
   "cell_type": "markdown",
   "metadata": {},
   "source": [
    "3. Find the p-value and perform the test at (75 + your_roll_number / 5)% confidence level. \n",
    "We normally calculate p-value and perform test between H0:μ=C and Ha:μ>C even when the actual hypotheses are H0:μ≤C and Ha:μ>C"
   ]
  },
  {
   "cell_type": "code",
   "execution_count": null,
   "metadata": {},
   "outputs": [],
   "source": []
  },
  {
   "cell_type": "markdown",
   "metadata": {},
   "source": [
    "4. Lets say your actual contradicting hypotheses in above question are H0:μ1−μ2≤C and Ha:μ1−μ2>C , then find p-value and perform test betweeen H0:μ1−μ2=C−δc and Ha:μ1−μ2>C ; increase δc from 0 to C in fixed interval of ((100 +your_roll_number) / 5). If your actual contradicting hypotheses are H0:μ1−μ2≥C and Ha:μ1−μ2<C , then find p-value and perform test betweeen H0:μ1−μ2=C+δc and Ha:μ1−μ2<C ; increase δc from 0 to C in fixed interval of ((100 +your_roll_number) / 5). Comment on what you observe (can you now see why we took H0:μ1−μ2=C and Ha:μ1−μ2 [>or<] C even when our actual hypothesis was H0:μ1−μ2 [≤or≥] C and Ha:μ1−μ2 [>or<] C ). {Hint: Test of difference between two population mean. You can use scipy.stats for cdf}"
   ]
  },
  {
   "cell_type": "code",
   "execution_count": null,
   "metadata": {},
   "outputs": [],
   "source": []
  }
 ],
 "metadata": {
  "kernelspec": {
   "display_name": ".venv",
   "language": "python",
   "name": "python3"
  },
  "language_info": {
   "name": "python",
   "version": "3.13.2"
  }
 },
 "nbformat": 4,
 "nbformat_minor": 2
}
