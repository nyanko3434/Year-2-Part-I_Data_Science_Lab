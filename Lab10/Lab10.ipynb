{
 "cells": [
  {
   "cell_type": "code",
   "execution_count": 1,
   "metadata": {},
   "outputs": [],
   "source": [
    "import numpy as np\n",
    "import matplotlib.pyplot as plt"
   ]
  },
  {
   "cell_type": "code",
   "execution_count": 33,
   "metadata": {},
   "outputs": [],
   "source": [
    "#Ploting the distrution of sample mean\n",
    "mean = 10\n",
    "std = 10\n",
    "N = 40\n",
    "data = np.random.exponential(mean, N)\n",
    "sample_means = []"
   ]
  },
  {
   "cell_type": "code",
   "execution_count": 36,
   "metadata": {},
   "outputs": [],
   "source": [
    "for i in range(0, 300):\n",
    "    sample = np.random.choice(data, 4)\n",
    "    sample_mean = np.mean(sample)\n",
    "    sample_means.append(sample_mean)\n",
    "    "
   ]
  },
  {
   "cell_type": "code",
   "execution_count": 38,
   "metadata": {},
   "outputs": [
    {
     "data": {
      "text/plain": [
       "(array([12., 24., 46., 42., 53., 55., 56., 66., 63., 49., 39., 31., 19.,\n",
       "        18., 11.,  7.,  4.,  1.,  2.,  1.,  0.,  0.,  1.]),\n",
       " array([ 1.44577593,  2.68509282,  3.92440971,  5.1637266 ,  6.40304349,\n",
       "         7.64236038,  8.88167727, 10.12099416, 11.36031105, 12.59962794,\n",
       "        13.83894483, 15.07826172, 16.31757861, 17.5568955 , 18.79621239,\n",
       "        20.03552928, 21.27484617, 22.51416306, 23.75347995, 24.99279684,\n",
       "        26.23211373, 27.47143062, 28.71074751, 29.9500644 ]),\n",
       " <BarContainer object of 23 artists>)"
      ]
     },
     "execution_count": 38,
     "metadata": {},
     "output_type": "execute_result"
    },
    {
     "data": {
      "image/png": "[encoded data removed]",
      "text/plain": [
       "<Figure size 640x480 with 1 Axes>"
      ]
     },
     "metadata": {},
     "output_type": "display_data"
    }
   ],
   "source": [
    "plt.hist(sample_means, bins=23, color='c', edgecolor='black')"
   ]
  },
  {
   "cell_type": "code",
   "execution_count": 45,
   "metadata": {},
   "outputs": [],
   "source": [
    "#sample means less than 12\n",
    "sample_means = np.array(sample_means)\n",
    "sample_means_less_than_x = sample_means[sample_means < 7]"
   ]
  },
  {
   "cell_type": "code",
   "execution_count": 46,
   "metadata": {},
   "outputs": [
    {
     "name": "stdout",
     "output_type": "stream",
     "text": [
      "The chance of the sample mean being less than x is:  0.235\n"
     ]
    }
   ],
   "source": [
    "sample_mean_less_than_x_chance = len(sample_means_less_than_x) / len(sample_means)\n",
    "print(\"The chance of the sample mean being less than x is: \", sample_mean_less_than_x_chance)"
   ]
  },
  {
   "cell_type": "code",
   "execution_count": 77,
   "metadata": {},
   "outputs": [
    {
     "data": {
      "text/plain": [
       "np.float64(7.65)"
      ]
     },
     "execution_count": 77,
     "metadata": {},
     "output_type": "execute_result"
    }
   ],
   "source": [
    "X = [6.91,6.62,8.45,9.10,11.05,3.47,12.47,3.02,9.88,5.53]\n",
    "sample_means = []\n",
    "X_mean = np.mean(X)\n",
    "for i in range(0, 100):\n",
    "    sample = np.random.choice(X, 5)\n",
    "    sample_mean = np.mean(sample)\n",
    "    sample_means.append(sample_mean)\n",
    "X_mean"
   ]
  },
  {
   "cell_type": "code",
   "execution_count": 72,
   "metadata": {},
   "outputs": [
    {
     "data": {
      "text/plain": [
       "np.float64(0.49)"
      ]
     },
     "execution_count": 72,
     "metadata": {},
     "output_type": "execute_result"
    }
   ],
   "source": [
    "sample_means = np.array(sample_means)\n",
    "np.sum(sample_means < X_mean)/len(sample_means)\n"
   ]
  },
  {
   "cell_type": "code",
   "execution_count": 86,
   "metadata": {},
   "outputs": [
    {
     "data": {
      "text/plain": [
       "np.float64(-2.1345374206136554)"
      ]
     },
     "execution_count": 86,
     "metadata": {},
     "output_type": "execute_result"
    }
   ],
   "source": [
    "z= (X_mean - 9)/(2/np.sqrt(np.size(X)))\n",
    "z"
   ]
  },
  {
   "cell_type": "code",
   "execution_count": 87,
   "metadata": {},
   "outputs": [],
   "source": [
    "def cdf(a):\n",
    "    sample_size = 100000\n",
    "    Z = np.random.normal(0,1,sample_size)\n",
    "    return np.sum(Z<a)/sample_size"
   ]
  },
  {
   "cell_type": "code",
   "execution_count": 88,
   "metadata": {},
   "outputs": [
    {
     "data": {
      "text/plain": [
       "np.float64(0.01566)"
      ]
     },
     "execution_count": 88,
     "metadata": {},
     "output_type": "execute_result"
    }
   ],
   "source": [
    "cdf(z)"
   ]
  },
  {
   "cell_type": "code",
   "execution_count": null,
   "metadata": {},
   "outputs": [],
   "source": []
  }
 ],
 "metadata": {
  "kernelspec": {
   "display_name": ".venv",
   "language": "python",
   "name": "python3"
  },
  "language_info": {
   "codemirror_mode": {
    "name": "ipython",
    "version": 3
   },
   "file_extension": ".py",
   "mimetype": "text/x-python",
   "name": "python",
   "nbconvert_exporter": "python",
   "pygments_lexer": "ipython3",
   "version": "3.13.1"
  }
 },
 "nbformat": 4,
 "nbformat_minor": 2
}
